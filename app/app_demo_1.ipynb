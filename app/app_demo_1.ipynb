{
 "cells": [
  {
   "cell_type": "code",
   "execution_count": 5,
   "metadata": {},
   "outputs": [],
   "source": [
    "from langchain_community.document_loaders import TextLoader\n",
    "from langchain.text_splitter import RecursiveCharacterTextSplitter\n",
    "from langchain_community.vectorstores import FAISS\n",
    "from langchain_core.prompts import ChatPromptTemplate\n",
    "from langchain_groq import ChatGroq\n",
    "from langchain_huggingface import HuggingFaceEmbeddings\n",
    "import os  \n",
    "from dotenv import load_dotenv\n",
    "from src.controllers import DocumentController\n",
    "from src.utils.config import get_settings"
   ]
  },
  {
   "cell_type": "code",
   "execution_count": 6,
   "metadata": {},
   "outputs": [],
   "source": [
    "# Load environment variables from .env file\n",
    "settings = get_settings()\n",
    "\n",
    "# Retrieve the GROQ_API_KEY from environment variables\n",
    "groq_api_key = settings.GROQ_API_KEY"
   ]
  },
  {
   "cell_type": "code",
   "execution_count": 9,
   "metadata": {},
   "outputs": [],
   "source": [
    "DocumentController = DocumentController()\n",
    "file_abs_path = DocumentController.get_project_path(Doc_name=\"health.txt\")"
   ]
  },
  {
   "cell_type": "code",
   "execution_count": 12,
   "metadata": {},
   "outputs": [],
   "source": [
    "loader = TextLoader(file_abs_path)\n",
    "documents = loader.load()"
   ]
  },
  {
   "cell_type": "code",
   "execution_count": 13,
   "metadata": {},
   "outputs": [],
   "source": [
    "text_splitter = RecursiveCharacterTextSplitter(\n",
    "    chunk_size=500,\n",
    "    chunk_overlap=50,\n",
    "    length_function=len,\n",
    ")"
   ]
  },
  {
   "cell_type": "code",
   "execution_count": 14,
   "metadata": {},
   "outputs": [],
   "source": [
    "docs = text_splitter.split_documents(documents)\n",
    "texts = [doc.page_content for doc in docs]"
   ]
  },
  {
   "cell_type": "code",
   "execution_count": 15,
   "metadata": {},
   "outputs": [
    {
     "name": "stderr",
     "output_type": "stream",
     "text": [
      "d:\\Graduation project ALL 4th\\Project Files\\chatbot\\venv\\Lib\\site-packages\\sentence_transformers\\cross_encoder\\CrossEncoder.py:11: TqdmWarning: IProgress not found. Please update jupyter and ipywidgets. See https://ipywidgets.readthedocs.io/en/stable/user_install.html\n",
      "  from tqdm.autonotebook import tqdm, trange\n",
      "d:\\Graduation project ALL 4th\\Project Files\\chatbot\\venv\\Lib\\site-packages\\huggingface_hub\\file_download.py:1132: FutureWarning: `resume_download` is deprecated and will be removed in version 1.0.0. Downloads always resume when possible. If you want to force a new download, use `force_download=True`.\n",
      "  warnings.warn(\n"
     ]
    }
   ],
   "source": [
    "embeddings = HuggingFaceEmbeddings(model_name=\"all-MiniLM-L6-v2\")"
   ]
  },
  {
   "cell_type": "code",
   "execution_count": 16,
   "metadata": {},
   "outputs": [],
   "source": [
    "db = FAISS.from_documents(\n",
    "    embedding=embeddings,\n",
    "    documents=docs\n",
    "    )"
   ]
  },
  {
   "cell_type": "code",
   "execution_count": 17,
   "metadata": {},
   "outputs": [],
   "source": [
    "query = \"I have experiencing  with sleep disorders\"\n",
    "test_search = db.similarity_search(query)"
   ]
  },
  {
   "cell_type": "code",
   "execution_count": 18,
   "metadata": {},
   "outputs": [
    {
     "data": {
      "text/plain": [
       "\"If you're experiencing sleep disorders like insomnia or sleep apnea, consult with a healthcare professional for appropriate treatment and management strategies.\\n\\nPreventive Care and Screening:\\nRegular check-ups, screenings, and immunizations can help detect and prevent various health issues. Follow age-appropriate screening guidelines for conditions like cancer, heart disease, and diabetes. Stay up-to-date with recommended vaccinations, such as the annual flu shot and COVID-19 boosters. Sleep and Rest:\\nMost adults need 7-9 hours of quality sleep per night for optimal health and functioning. Lack of sleep can lead to fatigue, impaired cognitive function, and an increased risk of various health problems. Establish a consistent sleep routine, create a sleep-conducive environment, and practice good sleep hygiene, such as avoiding caffeine and screens before bedtime. If you're experiencing persistent or severe symptoms of anxiety, depression, or other mental health issues, seek professional help from a licensed therapist or counselor. Incorporate stress-reducing practices like meditation, yoga, or deep breathing exercises into your routine. Prioritize self-care activities that bring you joy and relaxation, such as spending time in nature, engaging in hobbies, or practicing gratitude.\""
      ]
     },
     "execution_count": 18,
     "metadata": {},
     "output_type": "execute_result"
    }
   ],
   "source": [
    "search_results_content = \" \".join([doc.page_content for doc in test_search])\n",
    "search_results_content"
   ]
  },
  {
   "cell_type": "code",
   "execution_count": 19,
   "metadata": {},
   "outputs": [
    {
     "name": "stdout",
     "output_type": "stream",
     "text": [
      "content=\"For someone experiencing sleep disorders like insomnia or sleep apnea, it's crucial to consult with a healthcare professional for appropriate treatment and management strategies. They may recommend lifestyle changes, medication, or therapy, such as cognitive-behavioral therapy for insomnia (CBT-I).\\n\\nRegarding preventive care and screening, it's essential to follow age-appropriate screening guidelines for conditions like cancer, heart disease, and diabetes. Stay updated with recommended vaccinations, such as the annual flu shot and COVID-19 boosters.\\n\\nSleep and rest are vital for overall health and well-being. Aim for 7-9 hours of quality sleep per night. Establish a consistent sleep routine, create a sleep-conducive environment, and practice good sleep hygiene, such as avoiding caffeine and screens before bedtime.\\n\\nMental health is closely linked to sleep quality. If you're experiencing persistent or severe symptoms of anxiety, depression, or other mental health issues, seek professional help from a licensed therapist or counselor. Incorporate stress-reducing practices like meditation, yoga, or deep breathing exercises into your routine.\\n\\nLastly, prioritize self-care activities that bring you joy and relaxation, such as spending time in nature, engaging in hobbies, or practicing gratitude. These activities can help reduce stress and improve sleep quality.\" response_metadata={'token_usage': {'completion_tokens': 291, 'prompt_tokens': 307, 'total_tokens': 598, 'completion_time': 0.439230735, 'prompt_time': 0.126758524, 'queue_time': None, 'total_time': 0.565989259}, 'model_name': 'mixtral-8x7b-32768', 'system_fingerprint': 'fp_c5f20b5bb1', 'finish_reason': 'stop', 'logprobs': None} id='run-e3d5c2f4-cb17-4d36-87ae-1ddf2b008020-0'\n"
     ]
    }
   ],
   "source": [
    "# Define the system and human messages\n",
    "system = \"You are a Fitness Coach and you will answer based on hte information i give you.\"\n",
    "human = \"{text}\"\n",
    "\n",
    "# Create the chat prompt template\n",
    "prompt = ChatPromptTemplate.from_messages([(\"system\", system), (\"human\", human)])\n",
    "\n",
    "# Initialize the chat model with specific parameters\n",
    "chat = ChatGroq(temperature=0, model_name=\"mixtral-8x7b-32768\")\n",
    "\n",
    "# Combine the prompt and chat into a chain\n",
    "chain = prompt | chat\n",
    "\n",
    "# Define the query for similarity search\n",
    "query = \"I have experiencing  with sleep disorders\"\n",
    "\n",
    "# Perform the similarity search using the database\n",
    "retrived_search = db.similarity_search(query)\n",
    "\n",
    "# Extract the page content from the search results\n",
    "search_results_content = \" \".join([doc.page_content for doc in retrived_search])\n",
    "\n",
    "# Combine the search results into the prompt text\n",
    "combined_text = f\"{query}\\n{search_results_content}\"\n",
    "\n",
    "# Invoke the chain with the combined input\n",
    "response = chain.invoke({\"text\": combined_text})\n",
    "\n",
    "# Print the response\n",
    "print(response)\n"
   ]
  },
  {
   "cell_type": "markdown",
   "metadata": {},
   "source": [
    "________"
   ]
  }
 ],
 "metadata": {
  "kernelspec": {
   "display_name": "venv",
   "language": "python",
   "name": "python3"
  },
  "language_info": {
   "codemirror_mode": {
    "name": "ipython",
    "version": 3
   },
   "file_extension": ".py",
   "mimetype": "text/x-python",
   "name": "python",
   "nbconvert_exporter": "python",
   "pygments_lexer": "ipython3",
   "version": "3.11.0"
  }
 },
 "nbformat": 4,
 "nbformat_minor": 2
}
