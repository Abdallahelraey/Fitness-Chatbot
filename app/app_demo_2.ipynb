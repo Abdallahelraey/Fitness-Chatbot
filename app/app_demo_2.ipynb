{
 "cells": [
  {
   "cell_type": "code",
   "execution_count": 54,
   "metadata": {},
   "outputs": [],
   "source": [
    "from langchain_community.document_loaders import TextLoader\n",
    "from langchain.text_splitter import RecursiveCharacterTextSplitter\n",
    "from langchain_core.prompts import ChatPromptTemplate\n",
    "from langchain.prompts import ChatPromptTemplate\n",
    "from langchain_groq import ChatGroq\n",
    "from langchain_huggingface import HuggingFaceEmbeddings\n",
    "import os  \n",
    "import sys\n",
    "from src.controllers import DocumentController\n",
    "DocumentController = DocumentController()\n",
    "from src.controllers import BaseController\n",
    "BaseController = BaseController()\n",
    "from src.utils.config import get_settings\n",
    "# --------------------------------------------\n",
    "from langchain.schema import Document\n",
    "from langchain_community.vectorstores import Chroma\n",
    "import shutil\n",
    "import argparse"
   ]
  },
  {
   "cell_type": "code",
   "execution_count": 44,
   "metadata": {},
   "outputs": [],
   "source": [
    "# Load environment variables from .env file\n",
    "settings = get_settings()\n",
    "\n",
    "# Retrieve the GROQ_API_KEY from environment variables\n",
    "groq_api_key = settings.GROQ_API_KEY"
   ]
  },
  {
   "cell_type": "code",
   "execution_count": 45,
   "metadata": {},
   "outputs": [],
   "source": [
    "def load_documents(Doc_name):\n",
    "    file_abs_path = DocumentController.get_project_path(Doc_name=Doc_name)\n",
    "    loader = TextLoader(file_abs_path)\n",
    "    documents = loader.load()\n",
    "    return documents\n"
   ]
  },
  {
   "cell_type": "code",
   "execution_count": 14,
   "metadata": {},
   "outputs": [],
   "source": [
    "def split_text(documents: list[Document]):\n",
    "    text_splitter = RecursiveCharacterTextSplitter(\n",
    "        chunk_size=300,\n",
    "        chunk_overlap=100,\n",
    "        length_function=len,\n",
    "        add_start_index=True,\n",
    "    )\n",
    "    chunks = text_splitter.split_documents(documents)\n",
    "    texts = [doc.page_content for doc in chunks]\n",
    "\n",
    "    return chunks"
   ]
  },
  {
   "cell_type": "code",
   "execution_count": 5,
   "metadata": {},
   "outputs": [
    {
     "name": "stderr",
     "output_type": "stream",
     "text": [
      "d:\\Graduation project ALL 4th\\Project Files\\chatbot\\venv\\Lib\\site-packages\\sentence_transformers\\cross_encoder\\CrossEncoder.py:11: TqdmWarning: IProgress not found. Please update jupyter and ipywidgets. See https://ipywidgets.readthedocs.io/en/stable/user_install.html\n",
      "  from tqdm.autonotebook import tqdm, trange\n",
      "d:\\Graduation project ALL 4th\\Project Files\\chatbot\\venv\\Lib\\site-packages\\huggingface_hub\\file_download.py:1132: FutureWarning: `resume_download` is deprecated and will be removed in version 1.0.0. Downloads always resume when possible. If you want to force a new download, use `force_download=True`.\n",
      "  warnings.warn(\n"
     ]
    }
   ],
   "source": [
    "embeddings = HuggingFaceEmbeddings(model_name=\"all-MiniLM-L6-v2\")"
   ]
  },
  {
   "cell_type": "code",
   "execution_count": 15,
   "metadata": {},
   "outputs": [],
   "source": [
    "BaseController = BaseController()\n",
    "def save_to_chroma(chunks: list[Document]):\n",
    "    CHROMA_PATH = BaseController.db_dir\n",
    "    # Clear out the database first.\n",
    "    if os.path.exists(CHROMA_PATH):\n",
    "        shutil.rmtree(CHROMA_PATH)\n",
    "    embedding_function = HuggingFaceEmbeddings(model_name=\"all-MiniLM-L6-v2\")\n",
    "    # Create a new DB from the documents.\n",
    "    db = Chroma.from_documents(\n",
    "        chunks, embedding_function, persist_directory=CHROMA_PATH\n",
    "    )\n",
    "    db.persist()\n",
    "    print(f\"Saved {len(chunks)} chunks to {CHROMA_PATH}.\")"
   ]
  },
  {
   "cell_type": "code",
   "execution_count": 16,
   "metadata": {},
   "outputs": [],
   "source": [
    "def generate_data_store():\n",
    "    documents = load_documents()\n",
    "    chunks = split_text(documents)\n",
    "    save_to_chroma(chunks)"
   ]
  },
  {
   "cell_type": "code",
   "execution_count": 25,
   "metadata": {},
   "outputs": [
    {
     "name": "stdout",
     "output_type": "stream",
     "text": [
      "Saved 26 chunks to d:\\graduation project all 4th\\project files\\chatbot\\src\\assets/chroma.\n"
     ]
    },
    {
     "name": "stderr",
     "output_type": "stream",
     "text": [
      "d:\\Graduation project ALL 4th\\Project Files\\chatbot\\venv\\Lib\\site-packages\\langchain_core\\_api\\deprecation.py:119: LangChainDeprecationWarning: Since Chroma 0.4.x the manual persistence method is no longer supported as docs are automatically persisted.\n",
      "  warn_deprecated(\n"
     ]
    }
   ],
   "source": [
    "save_to_chroma(chunks)"
   ]
  },
  {
   "cell_type": "code",
   "execution_count": 26,
   "metadata": {},
   "outputs": [],
   "source": [
    "from langchain.evaluation import load_evaluator\n",
    "\n",
    "embedding_function = HuggingFaceEmbeddings(model_name=\"all-MiniLM-L6-v2\")\n",
    "\n",
    "def compare_embeddings(embedding_function):\n",
    "    # Get embedding for a word.\n",
    "    embedding_function = embedding_function\n",
    "    vector = embedding_function.embed_query(\"apple\")\n",
    "    print(f\"Vector for 'apple': {vector}\")\n",
    "    print(f\"Vector length: {len(vector)}\")\n",
    "\n",
    "    # Compare vector of two words\n",
    "    evaluator = load_evaluator(\"pairwise_embedding_distance\")\n",
    "    words = (\"apple\", \"iphone\")\n",
    "    x = evaluator.evaluate_string_pairs(prediction=words[0], prediction_b=words[1])\n",
    "    print(f\"Comparing ({words[0]}, {words[1]}): {x}\")"
   ]
  },
  {
   "cell_type": "code",
   "execution_count": 32,
   "metadata": {},
   "outputs": [
    {
     "name": "stdout",
     "output_type": "stream",
     "text": [
      "Custom similarity: 0.72382934656493\n"
     ]
    }
   ],
   "source": [
    "import numpy as np\n",
    "# Define the custom similarity function\n",
    "def custom_similarity(vector1, vector2):\n",
    "    # Calculate the cosine similarity between the two vectors\n",
    "    dot_product = np.dot(vector1, vector2)\n",
    "    magnitude1 = np.linalg.norm(vector1)\n",
    "    magnitude2 = np.linalg.norm(vector2)\n",
    "    similarity = dot_product / (magnitude1 * magnitude2)\n",
    "    return similarity\n",
    "\n",
    "def compare_embeddings(embedding_function,input_1,input_2):\n",
    "    # Get the embeddings for the two words\n",
    "    vector1 = embedding_function.embed_query(input_1)\n",
    "    vector2 = embedding_function.embed_query(input_2)\n",
    "\n",
    "    # Calculate the custom similarity metric\n",
    "    similarity = custom_similarity(vector1, vector2)\n",
    "    print(f\"Custom similarity: {similarity}\")\n",
    "\n",
    "# Call the function\n",
    "compare_embeddings(embedding_function,\"apple\",\"iphone\")"
   ]
  },
  {
   "cell_type": "markdown",
   "metadata": {},
   "source": [
    "--------"
   ]
  },
  {
   "cell_type": "code",
   "execution_count": 38,
   "metadata": {},
   "outputs": [],
   "source": [
    "query_text = input(\"Inter your query\")\n",
    "# # Create CLI.\n",
    "# parser = argparse.ArgumentParser()\n",
    "# parser.add_argument(\"query_text\", type=str, help=\"The query text.\")\n",
    "# args = parser.parse_args()\n",
    "# query_text = args.query_text"
   ]
  },
  {
   "cell_type": "code",
   "execution_count": 55,
   "metadata": {},
   "outputs": [],
   "source": [
    "def search_chroma_db(query_text):\n",
    "    \"\"\"\n",
    "    Search the Chroma database for the given query text and return the top results.\n",
    "\n",
    "    Args:\n",
    "        query_text (str): The text to search for.\n",
    "\n",
    "    Returns:\n",
    "        list: A list of tuples containing the matched text and relevance score, or an empty list if no relevant results are found.\n",
    "    \"\"\"\n",
    "    CHROMA_PATH = BaseController.db_dir\n",
    "    embedding_function = HuggingFaceEmbeddings(model_name=\"all-MiniLM-L6-v2\")\n",
    "    db = Chroma(persist_directory=CHROMA_PATH, embedding_function=embedding_function)\n",
    "\n",
    "    results = db.similarity_search_with_relevance_scores(query_text, k=3)\n",
    "\n",
    "    if len(results) == 0 or results[0][1] < 0.2:\n",
    "        print(f\"Unable to find matching results.\")\n",
    "        return []\n",
    "\n",
    "    return results"
   ]
  },
  {
   "cell_type": "code",
   "execution_count": 57,
   "metadata": {},
   "outputs": [
    {
     "data": {
      "text/plain": [
       "[(Document(page_content='Sleep and Rest:', metadata={'source': 'd:\\\\graduation project all 4th\\\\project files\\\\chatbot\\\\src\\\\assets/files\\\\health.txt', 'start_index': 2110}),\n",
       "  0.5803860188722099),\n",
       " (Document(page_content='Establish a consistent sleep routine, create a sleep-conducive environment, and practice good sleep hygiene, such as avoiding caffeine and screens before bedtime.', metadata={'source': 'd:\\\\graduation project all 4th\\\\project files\\\\chatbot\\\\src\\\\assets/files\\\\health.txt', 'start_index': 2330}),\n",
       "  0.5547013268808072),\n",
       " (Document(page_content=\"If you're experiencing sleep disorders like insomnia or sleep apnea, consult with a healthcare professional for appropriate treatment and management strategies.\", metadata={'source': 'd:\\\\graduation project all 4th\\\\project files\\\\chatbot\\\\src\\\\assets/files\\\\health.txt', 'start_index': 2494}),\n",
       "  0.43440440522869717)]"
      ]
     },
     "execution_count": 57,
     "metadata": {},
     "output_type": "execute_result"
    }
   ],
   "source": [
    "results = search_chroma_db(query_text)\n",
    "results"
   ]
  },
  {
   "cell_type": "code",
   "execution_count": 58,
   "metadata": {},
   "outputs": [],
   "source": [
    "def generate_prompt(query_text, results):\n",
    "    \"\"\"\n",
    "    Generate a prompt for a language model based on the given query text and search results.\n",
    "\n",
    "    Args:\n",
    "        query_text (str): The query text or question.\n",
    "        results (list): A list of tuples containing the matched text and relevance score.\n",
    "\n",
    "    Returns:\n",
    "        str: The generated prompt.\n",
    "    \"\"\"\n",
    "    PROMPT_TEMPLATE = \"\"\"\n",
    "    Answer the question based only on the following context:\n",
    "    {context}\n",
    "    ---\n",
    "    Answer the question based on the above context: {question}\n",
    "    \"\"\"\n",
    "\n",
    "    context_text = \"\\n\\n---\\n\\n\".join([doc.page_content for doc, _score in results])\n",
    "    prompt_template = ChatPromptTemplate.from_template(PROMPT_TEMPLATE)\n",
    "    prompt = prompt_template.format(context=context_text, question=query_text)\n",
    "\n",
    "    return prompt"
   ]
  },
  {
   "cell_type": "code",
   "execution_count": 60,
   "metadata": {},
   "outputs": [
    {
     "data": {
      "text/plain": [
       "\"Human: \\n    Answer the question based only on the following context:\\n    Sleep and Rest:\\n\\n---\\n\\nEstablish a consistent sleep routine, create a sleep-conducive environment, and practice good sleep hygiene, such as avoiding caffeine and screens before bedtime.\\n\\n---\\n\\nIf you're experiencing sleep disorders like insomnia or sleep apnea, consult with a healthcare professional for appropriate treatment and management strategies.\\n    ---\\n    Answer the question based on the above context: sleep advice\\n    \""
      ]
     },
     "execution_count": 60,
     "metadata": {},
     "output_type": "execute_result"
    }
   ],
   "source": [
    "prompt = generate_prompt(query_text, results)\n",
    "prompt"
   ]
  },
  {
   "cell_type": "code",
   "execution_count": 62,
   "metadata": {},
   "outputs": [],
   "source": [
    "model = ChatGroq(temperature=0, model_name=\"mixtral-8x7b-32768\")\n",
    "response_text = model.invoke(prompt)"
   ]
  },
  {
   "cell_type": "code",
   "execution_count": 63,
   "metadata": {},
   "outputs": [
    {
     "data": {
      "text/plain": [
       "AIMessage(content=\"Based on the provided context, here are some pieces of sleep advice:\\n\\n1. Establish a consistent sleep routine: Try to go to bed and wake up at the same time every day, even on weekends. This can help regulate your body's internal clock and improve the quality of your sleep.\\n\\n2. Create a sleep-conducive environment: Make sure your bedroom is dark, quiet, and cool. Consider using earplugs, an eye mask, or a white noise machine if necessary.\\n\\n3. Practice good sleep hygiene: Avoid caffeine and screens (like phones, tablets, and computers) for a few hours before bedtime. These can interfere with your ability to fall asleep and stay asleep.\\n\\n4. If you're experiencing sleep disorders like insomnia or sleep apnea, consult with a healthcare professional: They can provide appropriate treatment and management strategies. Sleep disorders can significantly impact the quality of your sleep and overall health, so it's important to seek professional help if you're experiencing symptoms.\", response_metadata={'token_usage': {'completion_tokens': 222, 'prompt_tokens': 123, 'total_tokens': 345, 'completion_time': 0.348196711, 'prompt_time': 0.020262437, 'queue_time': None, 'total_time': 0.368459148}, 'model_name': 'mixtral-8x7b-32768', 'system_fingerprint': 'fp_c5f20b5bb1', 'finish_reason': 'stop', 'logprobs': None}, id='run-b569a78d-3a05-42eb-9495-d3265a877d04-0')"
      ]
     },
     "execution_count": 63,
     "metadata": {},
     "output_type": "execute_result"
    }
   ],
   "source": [
    "response_text"
   ]
  },
  {
   "cell_type": "code",
   "execution_count": 64,
   "metadata": {},
   "outputs": [
    {
     "name": "stdout",
     "output_type": "stream",
     "text": [
      "Response: content=\"Based on the provided context, here are some pieces of sleep advice:\\n\\n1. Establish a consistent sleep routine: Try to go to bed and wake up at the same time every day, even on weekends. This can help regulate your body's internal clock and improve the quality of your sleep.\\n\\n2. Create a sleep-conducive environment: Make sure your bedroom is dark, quiet, and cool. Consider using earplugs, an eye mask, or a white noise machine if necessary.\\n\\n3. Practice good sleep hygiene: Avoid caffeine and screens (like phones, tablets, and computers) for a few hours before bedtime. These can interfere with your ability to fall asleep and stay asleep.\\n\\n4. If you're experiencing sleep disorders like insomnia or sleep apnea, consult with a healthcare professional: They can provide appropriate treatment and management strategies. Sleep disorders can significantly impact the quality of your sleep and overall health, so it's important to seek professional help if you're experiencing symptoms.\" response_metadata={'token_usage': {'completion_tokens': 222, 'prompt_tokens': 123, 'total_tokens': 345, 'completion_time': 0.348196711, 'prompt_time': 0.020262437, 'queue_time': None, 'total_time': 0.368459148}, 'model_name': 'mixtral-8x7b-32768', 'system_fingerprint': 'fp_c5f20b5bb1', 'finish_reason': 'stop', 'logprobs': None} id='run-b569a78d-3a05-42eb-9495-d3265a877d04-0'\n",
      "Sources: ['d:\\\\graduation project all 4th\\\\project files\\\\chatbot\\\\src\\\\assets/files\\\\health.txt', 'd:\\\\graduation project all 4th\\\\project files\\\\chatbot\\\\src\\\\assets/files\\\\health.txt', 'd:\\\\graduation project all 4th\\\\project files\\\\chatbot\\\\src\\\\assets/files\\\\health.txt']\n"
     ]
    }
   ],
   "source": [
    "sources = [doc.metadata.get(\"source\", None) for doc, _score in results]\n",
    "formatted_response = f\"Response: {response_text}\\nSources: {sources}\"\n",
    "print(formatted_response)"
   ]
  },
  {
   "cell_type": "markdown",
   "metadata": {},
   "source": [
    "----------------"
   ]
  }
 ],
 "metadata": {
  "kernelspec": {
   "display_name": "venv",
   "language": "python",
   "name": "python3"
  },
  "language_info": {
   "codemirror_mode": {
    "name": "ipython",
    "version": 3
   },
   "file_extension": ".py",
   "mimetype": "text/x-python",
   "name": "python",
   "nbconvert_exporter": "python",
   "pygments_lexer": "ipython3",
   "version": "3.11.0"
  }
 },
 "nbformat": 4,
 "nbformat_minor": 2
}
